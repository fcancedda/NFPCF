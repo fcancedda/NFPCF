{
 "cells": [
  {
   "cell_type": "code",
   "execution_count": 13,
   "metadata": {
    "collapsed": true
   },
   "outputs": [
    {
     "data": {
      "text/plain": "device(type='cuda')"
     },
     "execution_count": 13,
     "metadata": {},
     "output_type": "execute_result"
    }
   ],
   "source": [
    "import torch\n",
    "from models import NCF3, GMF\n",
    "\n",
    "device = torch.device(\"cuda\" if torch.cuda.is_available() else \"cpu\")\n",
    "device"
   ]
  },
  {
   "cell_type": "code",
   "execution_count": 14,
   "outputs": [
    {
     "data": {
      "text/plain": "<All keys matched successfully>"
     },
     "execution_count": 14,
     "metadata": {},
     "output_type": "execute_result"
    }
   ],
   "source": [
    "# model = GMF(6040, 3416, 128)\n",
    "# model = NCF(6040, 3416, 128, [128, 64, 32, 16], 1)\n",
    "model = NCF3(6040, 3416, 128, 4, 1)\n",
    "model.load_state_dict(torch.load('saved_models/NCF'))"
   ],
   "metadata": {
    "collapsed": false,
    "pycharm": {
     "name": "#%%\n"
    }
   }
  },
  {
   "cell_type": "code",
   "execution_count": 15,
   "outputs": [
    {
     "data": {
      "text/plain": "NCF3(\n  (embed_user_GMF): Embedding(6040, 128)\n  (embed_item_GMF): Embedding(3416, 128)\n  (embed_user_MLP): Embedding(6040, 1024)\n  (embed_item_MLP): Embedding(3416, 1024)\n  (out_act): Sigmoid()\n  (MLP_layers): Sequential(\n    (0): Dropout(p=1, inplace=False)\n    (1): Linear(in_features=2048, out_features=1024, bias=True)\n    (2): ReLU()\n    (3): Dropout(p=1, inplace=False)\n    (4): Linear(in_features=1024, out_features=512, bias=True)\n    (5): ReLU()\n    (6): Dropout(p=1, inplace=False)\n    (7): Linear(in_features=512, out_features=256, bias=True)\n    (8): ReLU()\n    (9): Dropout(p=1, inplace=False)\n    (10): Linear(in_features=256, out_features=128, bias=True)\n    (11): ReLU()\n  )\n  (predict_layer): Linear(in_features=256, out_features=1, bias=True)\n)"
     },
     "execution_count": 15,
     "metadata": {},
     "output_type": "execute_result"
    }
   ],
   "source": [
    "model.eval()"
   ],
   "metadata": {
    "collapsed": false,
    "pycharm": {
     "name": "#%%\n"
    }
   }
  },
  {
   "cell_type": "code",
   "execution_count": 4,
   "outputs": [],
   "source": [
    "from data import TargetData\n",
    "\n",
    "data = TargetData()"
   ],
   "metadata": {
    "collapsed": false,
    "pycharm": {
     "name": "#%%\n"
    }
   }
  },
  {
   "cell_type": "code",
   "execution_count": 16,
   "outputs": [
    {
     "data": {
      "text/plain": "        uid_old  mid_old  rating                date   uid   mid  latest\n0             1     1193       1 2000-12-31 22:12:40     0     0    42.0\n1             1      661       1 2000-12-31 22:35:09     0     1    23.0\n2             1      914       1 2000-12-31 22:32:48     0     2    28.0\n3             1     3408       1 2000-12-31 22:04:35     0     3    47.0\n4             1     2355       1 2001-01-06 23:38:11     0     4     4.0\n...         ...      ...     ...                 ...   ...   ...     ...\n999606     6040     1091       1 2000-04-26 02:35:41  6039   772   161.0\n999607     6040     1094       1 2000-04-25 23:21:27  6039  1106   293.0\n999608     6040      562       1 2000-04-25 23:19:06  6039   365   305.0\n999609     6040     1096       1 2000-04-26 02:20:48  6039   152   234.0\n999610     6040     1097       1 2000-04-26 02:19:29  6039    26   246.0\n\n[999611 rows x 7 columns]",
      "text/html": "<div>\n<style scoped>\n    .dataframe tbody tr th:only-of-type {\n        vertical-align: middle;\n    }\n\n    .dataframe tbody tr th {\n        vertical-align: top;\n    }\n\n    .dataframe thead th {\n        text-align: right;\n    }\n</style>\n<table border=\"1\" class=\"dataframe\">\n  <thead>\n    <tr style=\"text-align: right;\">\n      <th></th>\n      <th>uid_old</th>\n      <th>mid_old</th>\n      <th>rating</th>\n      <th>date</th>\n      <th>uid</th>\n      <th>mid</th>\n      <th>latest</th>\n    </tr>\n  </thead>\n  <tbody>\n    <tr>\n      <th>0</th>\n      <td>1</td>\n      <td>1193</td>\n      <td>1</td>\n      <td>2000-12-31 22:12:40</td>\n      <td>0</td>\n      <td>0</td>\n      <td>42.0</td>\n    </tr>\n    <tr>\n      <th>1</th>\n      <td>1</td>\n      <td>661</td>\n      <td>1</td>\n      <td>2000-12-31 22:35:09</td>\n      <td>0</td>\n      <td>1</td>\n      <td>23.0</td>\n    </tr>\n    <tr>\n      <th>2</th>\n      <td>1</td>\n      <td>914</td>\n      <td>1</td>\n      <td>2000-12-31 22:32:48</td>\n      <td>0</td>\n      <td>2</td>\n      <td>28.0</td>\n    </tr>\n    <tr>\n      <th>3</th>\n      <td>1</td>\n      <td>3408</td>\n      <td>1</td>\n      <td>2000-12-31 22:04:35</td>\n      <td>0</td>\n      <td>3</td>\n      <td>47.0</td>\n    </tr>\n    <tr>\n      <th>4</th>\n      <td>1</td>\n      <td>2355</td>\n      <td>1</td>\n      <td>2001-01-06 23:38:11</td>\n      <td>0</td>\n      <td>4</td>\n      <td>4.0</td>\n    </tr>\n    <tr>\n      <th>...</th>\n      <td>...</td>\n      <td>...</td>\n      <td>...</td>\n      <td>...</td>\n      <td>...</td>\n      <td>...</td>\n      <td>...</td>\n    </tr>\n    <tr>\n      <th>999606</th>\n      <td>6040</td>\n      <td>1091</td>\n      <td>1</td>\n      <td>2000-04-26 02:35:41</td>\n      <td>6039</td>\n      <td>772</td>\n      <td>161.0</td>\n    </tr>\n    <tr>\n      <th>999607</th>\n      <td>6040</td>\n      <td>1094</td>\n      <td>1</td>\n      <td>2000-04-25 23:21:27</td>\n      <td>6039</td>\n      <td>1106</td>\n      <td>293.0</td>\n    </tr>\n    <tr>\n      <th>999608</th>\n      <td>6040</td>\n      <td>562</td>\n      <td>1</td>\n      <td>2000-04-25 23:19:06</td>\n      <td>6039</td>\n      <td>365</td>\n      <td>305.0</td>\n    </tr>\n    <tr>\n      <th>999609</th>\n      <td>6040</td>\n      <td>1096</td>\n      <td>1</td>\n      <td>2000-04-26 02:20:48</td>\n      <td>6039</td>\n      <td>152</td>\n      <td>234.0</td>\n    </tr>\n    <tr>\n      <th>999610</th>\n      <td>6040</td>\n      <td>1097</td>\n      <td>1</td>\n      <td>2000-04-26 02:19:29</td>\n      <td>6039</td>\n      <td>26</td>\n      <td>246.0</td>\n    </tr>\n  </tbody>\n</table>\n<p>999611 rows × 7 columns</p>\n</div>"
     },
     "execution_count": 16,
     "metadata": {},
     "output_type": "execute_result"
    }
   ],
   "source": [
    "data.df"
   ],
   "metadata": {
    "collapsed": false,
    "pycharm": {
     "name": "#%%\n"
    }
   }
  },
  {
   "cell_type": "code",
   "execution_count": 17,
   "outputs": [
    {
     "data": {
      "text/plain": "        uid_old  mid_old  rating                date   uid  mid  latest\n379458     2221      608       1 2000-11-19 02:44:07  2220   51    76.0",
      "text/html": "<div>\n<style scoped>\n    .dataframe tbody tr th:only-of-type {\n        vertical-align: middle;\n    }\n\n    .dataframe tbody tr th {\n        vertical-align: top;\n    }\n\n    .dataframe thead th {\n        text-align: right;\n    }\n</style>\n<table border=\"1\" class=\"dataframe\">\n  <thead>\n    <tr style=\"text-align: right;\">\n      <th></th>\n      <th>uid_old</th>\n      <th>mid_old</th>\n      <th>rating</th>\n      <th>date</th>\n      <th>uid</th>\n      <th>mid</th>\n      <th>latest</th>\n    </tr>\n  </thead>\n  <tbody>\n    <tr>\n      <th>379458</th>\n      <td>2221</td>\n      <td>608</td>\n      <td>1</td>\n      <td>2000-11-19 02:44:07</td>\n      <td>2220</td>\n      <td>51</td>\n      <td>76.0</td>\n    </tr>\n  </tbody>\n</table>\n</div>"
     },
     "execution_count": 17,
     "metadata": {},
     "output_type": "execute_result"
    }
   ],
   "source": [
    "from random import choice\n",
    "\n",
    "row = data.df.sample(1)\n",
    "row"
   ],
   "metadata": {
    "collapsed": false,
    "pycharm": {
     "name": "#%%\n"
    }
   }
  },
  {
   "cell_type": "code",
   "execution_count": 18,
   "outputs": [],
   "source": [
    "user = row.uid_old.item()"
   ],
   "metadata": {
    "collapsed": false,
    "pycharm": {
     "name": "#%%\n"
    }
   }
  },
  {
   "cell_type": "code",
   "execution_count": 19,
   "outputs": [
    {
     "data": {
      "text/plain": "   uid_old  mid_old  rating                date   uid  mid  latest\n0     2221        1       1 2000-11-19 02:54:36  2220   40    43.0\n1     2221       17       1 2000-11-19 02:50:00  2220  417    66.0\n2     2221       24       1 2000-11-19 02:15:11  2220  359   133.0\n3     2221       32       1 2000-11-19 02:09:39  2220  376   153.0\n4     2221       36       1 2000-11-19 02:48:40  2220  383    71.0",
      "text/html": "<div>\n<style scoped>\n    .dataframe tbody tr th:only-of-type {\n        vertical-align: middle;\n    }\n\n    .dataframe tbody tr th {\n        vertical-align: top;\n    }\n\n    .dataframe thead th {\n        text-align: right;\n    }\n</style>\n<table border=\"1\" class=\"dataframe\">\n  <thead>\n    <tr style=\"text-align: right;\">\n      <th></th>\n      <th>uid_old</th>\n      <th>mid_old</th>\n      <th>rating</th>\n      <th>date</th>\n      <th>uid</th>\n      <th>mid</th>\n      <th>latest</th>\n    </tr>\n  </thead>\n  <tbody>\n    <tr>\n      <th>0</th>\n      <td>2221</td>\n      <td>1</td>\n      <td>1</td>\n      <td>2000-11-19 02:54:36</td>\n      <td>2220</td>\n      <td>40</td>\n      <td>43.0</td>\n    </tr>\n    <tr>\n      <th>1</th>\n      <td>2221</td>\n      <td>17</td>\n      <td>1</td>\n      <td>2000-11-19 02:50:00</td>\n      <td>2220</td>\n      <td>417</td>\n      <td>66.0</td>\n    </tr>\n    <tr>\n      <th>2</th>\n      <td>2221</td>\n      <td>24</td>\n      <td>1</td>\n      <td>2000-11-19 02:15:11</td>\n      <td>2220</td>\n      <td>359</td>\n      <td>133.0</td>\n    </tr>\n    <tr>\n      <th>3</th>\n      <td>2221</td>\n      <td>32</td>\n      <td>1</td>\n      <td>2000-11-19 02:09:39</td>\n      <td>2220</td>\n      <td>376</td>\n      <td>153.0</td>\n    </tr>\n    <tr>\n      <th>4</th>\n      <td>2221</td>\n      <td>36</td>\n      <td>1</td>\n      <td>2000-11-19 02:48:40</td>\n      <td>2220</td>\n      <td>383</td>\n      <td>71.0</td>\n    </tr>\n  </tbody>\n</table>\n</div>"
     },
     "execution_count": 19,
     "metadata": {},
     "output_type": "execute_result"
    }
   ],
   "source": [
    "all_user_likes = data.df[data.df.uid_old==user].copy(deep=True)\n",
    "not_liked = data.movies - set(all_user_likes.mid_old.values)\n",
    "aul = all_user_likes.sort_values(by='mid_old').reset_index(drop=True)\n",
    "aul.head()\n"
   ],
   "metadata": {
    "collapsed": false,
    "pycharm": {
     "name": "#%%\n"
    }
   }
  },
  {
   "cell_type": "code",
   "execution_count": 20,
   "outputs": [],
   "source": [
    "import numpy as np\n",
    "# [x for _, x in sorted(zip(Y, X))]\n",
    "# list(data.movies)\n",
    "y = model(\n",
    "    torch.LongTensor(np.full(data.num_movies, user)).to(device),\n",
    "    torch.LongTensor(list(data.movies)).to(device)\n",
    ")"
   ],
   "metadata": {
    "collapsed": false,
    "pycharm": {
     "name": "#%%\n"
    }
   }
  },
  {
   "cell_type": "code",
   "execution_count": 21,
   "outputs": [],
   "source": [
    "import pandas as pd\n",
    "cols = list(zip(list(data.movies),y.cpu().detach().numpy().squeeze()))\n",
    "\n",
    "scores = pd.DataFrame(cols, columns=['mid_old', 'score'])"
   ],
   "metadata": {
    "collapsed": false,
    "pycharm": {
     "name": "#%%\n"
    }
   }
  },
  {
   "cell_type": "code",
   "execution_count": 22,
   "outputs": [],
   "source": [
    "df = pd.merge(scores, aul, how='inner', on=['mid_old', 'mid_old'])\n",
    "\n",
    "\n"
   ],
   "metadata": {
    "collapsed": false,
    "pycharm": {
     "name": "#%%\n"
    }
   }
  },
  {
   "cell_type": "code",
   "execution_count": 23,
   "outputs": [
    {
     "data": {
      "text/plain": "     mid_old         score  uid_old  rating                date   uid  mid  \\\n107     2289  0.000000e+00     2221       1 2000-11-19 02:51:34  2220  275   \n147     3175  1.039223e-25     2221       1 2000-11-19 02:09:39  2220  733   \n91      1909  2.020170e-24     2221       1 2000-11-19 02:14:07  2220  251   \n138     2908  1.938922e-23     2221       1 2000-11-19 02:53:49  2220  372   \n144     3033  7.530455e-22     2221       1 2000-11-19 02:34:39  2220  864   \n..       ...           ...      ...     ...                 ...   ...  ...   \n51      1196  1.000000e+00     2221       1 2000-11-19 02:23:29  2220  124   \n52      1200  1.000000e+00     2221       1 2000-11-19 02:23:29  2220  714   \n53      1210  1.000000e+00     2221       1 2000-11-19 02:24:48  2220   64   \n55      1240  1.000000e+00     2221       1 2000-11-19 02:23:29  2220  217   \n150     3386  1.000000e+00     2221       1 2000-11-19 02:48:40  2220  292   \n\n     latest  \n107    55.0  \n147   151.0  \n91    137.0  \n138    47.0  \n144    91.0  \n..      ...  \n51    113.0  \n52    115.0  \n53    110.0  \n55    117.0  \n150    70.0  \n\n[151 rows x 8 columns]",
      "text/html": "<div>\n<style scoped>\n    .dataframe tbody tr th:only-of-type {\n        vertical-align: middle;\n    }\n\n    .dataframe tbody tr th {\n        vertical-align: top;\n    }\n\n    .dataframe thead th {\n        text-align: right;\n    }\n</style>\n<table border=\"1\" class=\"dataframe\">\n  <thead>\n    <tr style=\"text-align: right;\">\n      <th></th>\n      <th>mid_old</th>\n      <th>score</th>\n      <th>uid_old</th>\n      <th>rating</th>\n      <th>date</th>\n      <th>uid</th>\n      <th>mid</th>\n      <th>latest</th>\n    </tr>\n  </thead>\n  <tbody>\n    <tr>\n      <th>107</th>\n      <td>2289</td>\n      <td>0.000000e+00</td>\n      <td>2221</td>\n      <td>1</td>\n      <td>2000-11-19 02:51:34</td>\n      <td>2220</td>\n      <td>275</td>\n      <td>55.0</td>\n    </tr>\n    <tr>\n      <th>147</th>\n      <td>3175</td>\n      <td>1.039223e-25</td>\n      <td>2221</td>\n      <td>1</td>\n      <td>2000-11-19 02:09:39</td>\n      <td>2220</td>\n      <td>733</td>\n      <td>151.0</td>\n    </tr>\n    <tr>\n      <th>91</th>\n      <td>1909</td>\n      <td>2.020170e-24</td>\n      <td>2221</td>\n      <td>1</td>\n      <td>2000-11-19 02:14:07</td>\n      <td>2220</td>\n      <td>251</td>\n      <td>137.0</td>\n    </tr>\n    <tr>\n      <th>138</th>\n      <td>2908</td>\n      <td>1.938922e-23</td>\n      <td>2221</td>\n      <td>1</td>\n      <td>2000-11-19 02:53:49</td>\n      <td>2220</td>\n      <td>372</td>\n      <td>47.0</td>\n    </tr>\n    <tr>\n      <th>144</th>\n      <td>3033</td>\n      <td>7.530455e-22</td>\n      <td>2221</td>\n      <td>1</td>\n      <td>2000-11-19 02:34:39</td>\n      <td>2220</td>\n      <td>864</td>\n      <td>91.0</td>\n    </tr>\n    <tr>\n      <th>...</th>\n      <td>...</td>\n      <td>...</td>\n      <td>...</td>\n      <td>...</td>\n      <td>...</td>\n      <td>...</td>\n      <td>...</td>\n      <td>...</td>\n    </tr>\n    <tr>\n      <th>51</th>\n      <td>1196</td>\n      <td>1.000000e+00</td>\n      <td>2221</td>\n      <td>1</td>\n      <td>2000-11-19 02:23:29</td>\n      <td>2220</td>\n      <td>124</td>\n      <td>113.0</td>\n    </tr>\n    <tr>\n      <th>52</th>\n      <td>1200</td>\n      <td>1.000000e+00</td>\n      <td>2221</td>\n      <td>1</td>\n      <td>2000-11-19 02:23:29</td>\n      <td>2220</td>\n      <td>714</td>\n      <td>115.0</td>\n    </tr>\n    <tr>\n      <th>53</th>\n      <td>1210</td>\n      <td>1.000000e+00</td>\n      <td>2221</td>\n      <td>1</td>\n      <td>2000-11-19 02:24:48</td>\n      <td>2220</td>\n      <td>64</td>\n      <td>110.0</td>\n    </tr>\n    <tr>\n      <th>55</th>\n      <td>1240</td>\n      <td>1.000000e+00</td>\n      <td>2221</td>\n      <td>1</td>\n      <td>2000-11-19 02:23:29</td>\n      <td>2220</td>\n      <td>217</td>\n      <td>117.0</td>\n    </tr>\n    <tr>\n      <th>150</th>\n      <td>3386</td>\n      <td>1.000000e+00</td>\n      <td>2221</td>\n      <td>1</td>\n      <td>2000-11-19 02:48:40</td>\n      <td>2220</td>\n      <td>292</td>\n      <td>70.0</td>\n    </tr>\n  </tbody>\n</table>\n<p>151 rows × 8 columns</p>\n</div>"
     },
     "execution_count": 23,
     "metadata": {},
     "output_type": "execute_result"
    }
   ],
   "source": [
    "df.sort_values(by='score')"
   ],
   "metadata": {
    "collapsed": false,
    "pycharm": {
     "name": "#%%\n"
    }
   }
  },
  {
   "cell_type": "code",
   "execution_count": 25,
   "outputs": [
    {
     "data": {
      "text/plain": "1    151\nName: rating, dtype: int64"
     },
     "execution_count": 25,
     "metadata": {},
     "output_type": "execute_result"
    }
   ],
   "source": [
    "df.rating.value_counts()"
   ],
   "metadata": {
    "collapsed": false,
    "pycharm": {
     "name": "#%%\n"
    }
   }
  },
  {
   "cell_type": "code",
   "execution_count": 26,
   "outputs": [
    {
     "data": {
      "text/plain": "1    162\nName: rating, dtype: int64"
     },
     "execution_count": 26,
     "metadata": {},
     "output_type": "execute_result"
    }
   ],
   "source": [
    "aul.rating.value_counts()"
   ],
   "metadata": {
    "collapsed": false,
    "pycharm": {
     "name": "#%%\n"
    }
   }
  },
  {
   "cell_type": "code",
   "execution_count": 27,
   "outputs": [
    {
     "data": {
      "text/plain": "0    604000\n1      6040\nName: rating, dtype: int64"
     },
     "execution_count": 27,
     "metadata": {},
     "output_type": "execute_result"
    }
   ],
   "source": [
    "data.testing_data.rating.value_counts()"
   ],
   "metadata": {
    "collapsed": false,
    "pycharm": {
     "name": "#%%\n"
    }
   }
  },
  {
   "cell_type": "code",
   "execution_count": null,
   "outputs": [],
   "source": [],
   "metadata": {
    "collapsed": false,
    "pycharm": {
     "name": "#%%\n"
    }
   }
  }
 ],
 "metadata": {
  "kernelspec": {
   "display_name": "Python 3",
   "language": "python",
   "name": "python3"
  },
  "language_info": {
   "codemirror_mode": {
    "name": "ipython",
    "version": 2
   },
   "file_extension": ".py",
   "mimetype": "text/x-python",
   "name": "python",
   "nbconvert_exporter": "python",
   "pygments_lexer": "ipython2",
   "version": "2.7.6"
  }
 },
 "nbformat": 4,
 "nbformat_minor": 0
}