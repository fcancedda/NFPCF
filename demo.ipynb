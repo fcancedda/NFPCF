{
 "cells": [
  {
   "cell_type": "code",
   "execution_count": 33,
   "metadata": {
    "collapsed": true
   },
   "outputs": [
    {
     "data": {
      "text/plain": "device(type='cuda')"
     },
     "execution_count": 33,
     "metadata": {},
     "output_type": "execute_result"
    }
   ],
   "source": [
    "import torch\n",
    "from models import NCF\n",
    "\n",
    "device = torch.device(\"cuda\" if torch.cuda.is_available() else \"cpu\")\n",
    "device"
   ]
  },
  {
   "cell_type": "code",
   "execution_count": 34,
   "outputs": [
    {
     "data": {
      "text/plain": "<All keys matched successfully>"
     },
     "execution_count": 34,
     "metadata": {},
     "output_type": "execute_result"
    }
   ],
   "source": [
    "model = NCF(6040, 3416, 128, [128, 64, 32, 16], 1)\n",
    "model.load_state_dict(torch.load('saved_models/preTrained_NCF'))"
   ],
   "metadata": {
    "collapsed": false,
    "pycharm": {
     "name": "#%%\n"
    }
   }
  },
  {
   "cell_type": "code",
   "execution_count": 35,
   "outputs": [
    {
     "data": {
      "text/plain": "NCF(\n  (user_emb): Embedding(6040, 128)\n  (like_emb): Embedding(3416, 128)\n  (fc1): Linear(in_features=256, out_features=128, bias=True)\n  (relu1): ReLU()\n  (fc2): Linear(in_features=128, out_features=64, bias=True)\n  (relu2): ReLU()\n  (fc3): Linear(in_features=64, out_features=32, bias=True)\n  (relu3): ReLU()\n  (fc4): Linear(in_features=32, out_features=16, bias=True)\n  (relu4): ReLU()\n  (outLayer): Linear(in_features=16, out_features=1, bias=True)\n  (out_act): Sigmoid()\n)"
     },
     "execution_count": 35,
     "metadata": {},
     "output_type": "execute_result"
    }
   ],
   "source": [
    "model.eval()"
   ],
   "metadata": {
    "collapsed": false,
    "pycharm": {
     "name": "#%%\n"
    }
   }
  },
  {
   "cell_type": "code",
   "execution_count": 36,
   "outputs": [],
   "source": [
    "from data import TargetData\n",
    "\n",
    "data = TargetData()"
   ],
   "metadata": {
    "collapsed": false,
    "pycharm": {
     "name": "#%%\n"
    }
   }
  },
  {
   "cell_type": "code",
   "execution_count": 37,
   "outputs": [
    {
     "data": {
      "text/plain": "        uid_old  mid_old  rating                date   uid   mid  latest\n0             1     1193       1 2000-12-31 22:12:40     0     0    42.0\n1             1      661       1 2000-12-31 22:35:09     0     1    23.0\n2             1      914       1 2000-12-31 22:32:48     0     2    28.0\n3             1     3408       1 2000-12-31 22:04:35     0     3    47.0\n4             1     2355       1 2001-01-06 23:38:11     0     4     4.0\n...         ...      ...     ...                 ...   ...   ...     ...\n999606     6040     1091       1 2000-04-26 02:35:41  6039   772   161.0\n999607     6040     1094       1 2000-04-25 23:21:27  6039  1106   293.0\n999608     6040      562       1 2000-04-25 23:19:06  6039   365   305.0\n999609     6040     1096       1 2000-04-26 02:20:48  6039   152   234.0\n999610     6040     1097       1 2000-04-26 02:19:29  6039    26   246.0\n\n[999611 rows x 7 columns]",
      "text/html": "<div>\n<style scoped>\n    .dataframe tbody tr th:only-of-type {\n        vertical-align: middle;\n    }\n\n    .dataframe tbody tr th {\n        vertical-align: top;\n    }\n\n    .dataframe thead th {\n        text-align: right;\n    }\n</style>\n<table border=\"1\" class=\"dataframe\">\n  <thead>\n    <tr style=\"text-align: right;\">\n      <th></th>\n      <th>uid_old</th>\n      <th>mid_old</th>\n      <th>rating</th>\n      <th>date</th>\n      <th>uid</th>\n      <th>mid</th>\n      <th>latest</th>\n    </tr>\n  </thead>\n  <tbody>\n    <tr>\n      <th>0</th>\n      <td>1</td>\n      <td>1193</td>\n      <td>1</td>\n      <td>2000-12-31 22:12:40</td>\n      <td>0</td>\n      <td>0</td>\n      <td>42.0</td>\n    </tr>\n    <tr>\n      <th>1</th>\n      <td>1</td>\n      <td>661</td>\n      <td>1</td>\n      <td>2000-12-31 22:35:09</td>\n      <td>0</td>\n      <td>1</td>\n      <td>23.0</td>\n    </tr>\n    <tr>\n      <th>2</th>\n      <td>1</td>\n      <td>914</td>\n      <td>1</td>\n      <td>2000-12-31 22:32:48</td>\n      <td>0</td>\n      <td>2</td>\n      <td>28.0</td>\n    </tr>\n    <tr>\n      <th>3</th>\n      <td>1</td>\n      <td>3408</td>\n      <td>1</td>\n      <td>2000-12-31 22:04:35</td>\n      <td>0</td>\n      <td>3</td>\n      <td>47.0</td>\n    </tr>\n    <tr>\n      <th>4</th>\n      <td>1</td>\n      <td>2355</td>\n      <td>1</td>\n      <td>2001-01-06 23:38:11</td>\n      <td>0</td>\n      <td>4</td>\n      <td>4.0</td>\n    </tr>\n    <tr>\n      <th>...</th>\n      <td>...</td>\n      <td>...</td>\n      <td>...</td>\n      <td>...</td>\n      <td>...</td>\n      <td>...</td>\n      <td>...</td>\n    </tr>\n    <tr>\n      <th>999606</th>\n      <td>6040</td>\n      <td>1091</td>\n      <td>1</td>\n      <td>2000-04-26 02:35:41</td>\n      <td>6039</td>\n      <td>772</td>\n      <td>161.0</td>\n    </tr>\n    <tr>\n      <th>999607</th>\n      <td>6040</td>\n      <td>1094</td>\n      <td>1</td>\n      <td>2000-04-25 23:21:27</td>\n      <td>6039</td>\n      <td>1106</td>\n      <td>293.0</td>\n    </tr>\n    <tr>\n      <th>999608</th>\n      <td>6040</td>\n      <td>562</td>\n      <td>1</td>\n      <td>2000-04-25 23:19:06</td>\n      <td>6039</td>\n      <td>365</td>\n      <td>305.0</td>\n    </tr>\n    <tr>\n      <th>999609</th>\n      <td>6040</td>\n      <td>1096</td>\n      <td>1</td>\n      <td>2000-04-26 02:20:48</td>\n      <td>6039</td>\n      <td>152</td>\n      <td>234.0</td>\n    </tr>\n    <tr>\n      <th>999610</th>\n      <td>6040</td>\n      <td>1097</td>\n      <td>1</td>\n      <td>2000-04-26 02:19:29</td>\n      <td>6039</td>\n      <td>26</td>\n      <td>246.0</td>\n    </tr>\n  </tbody>\n</table>\n<p>999611 rows × 7 columns</p>\n</div>"
     },
     "execution_count": 37,
     "metadata": {},
     "output_type": "execute_result"
    }
   ],
   "source": [
    "data.df"
   ],
   "metadata": {
    "collapsed": false,
    "pycharm": {
     "name": "#%%\n"
    }
   }
  },
  {
   "cell_type": "code",
   "execution_count": 38,
   "outputs": [
    {
     "data": {
      "text/plain": "        uid_old  mid_old  rating                date   uid   mid  latest\n883119     5335     3104       1 2000-06-11 23:08:00  5334  1251    66.0",
      "text/html": "<div>\n<style scoped>\n    .dataframe tbody tr th:only-of-type {\n        vertical-align: middle;\n    }\n\n    .dataframe tbody tr th {\n        vertical-align: top;\n    }\n\n    .dataframe thead th {\n        text-align: right;\n    }\n</style>\n<table border=\"1\" class=\"dataframe\">\n  <thead>\n    <tr style=\"text-align: right;\">\n      <th></th>\n      <th>uid_old</th>\n      <th>mid_old</th>\n      <th>rating</th>\n      <th>date</th>\n      <th>uid</th>\n      <th>mid</th>\n      <th>latest</th>\n    </tr>\n  </thead>\n  <tbody>\n    <tr>\n      <th>883119</th>\n      <td>5335</td>\n      <td>3104</td>\n      <td>1</td>\n      <td>2000-06-11 23:08:00</td>\n      <td>5334</td>\n      <td>1251</td>\n      <td>66.0</td>\n    </tr>\n  </tbody>\n</table>\n</div>"
     },
     "execution_count": 38,
     "metadata": {},
     "output_type": "execute_result"
    }
   ],
   "source": [
    "from random import choice\n",
    "\n",
    "row = data.df.sample(1)\n",
    "row"
   ],
   "metadata": {
    "collapsed": false,
    "pycharm": {
     "name": "#%%\n"
    }
   }
  },
  {
   "cell_type": "code",
   "execution_count": 39,
   "outputs": [],
   "source": [
    "user = row.uid.item()"
   ],
   "metadata": {
    "collapsed": false,
    "pycharm": {
     "name": "#%%\n"
    }
   }
  },
  {
   "cell_type": "code",
   "execution_count": 44,
   "outputs": [
    {
     "data": {
      "text/plain": "   uid_old  mid_old  rating                date   uid   mid  latest\n0     5335       21       1 2000-06-11 23:13:14  5334   145    35.0\n1     5335       45       1 2000-06-11 22:58:46  5334  1276   115.0\n2     5335      101       1 2000-06-11 23:02:01  5334  2409   103.0\n3     5335      110       1 2000-06-11 23:12:15  5334    92    41.0\n4     5335      150       1 2000-06-11 23:04:09  5334    39    91.0",
      "text/html": "<div>\n<style scoped>\n    .dataframe tbody tr th:only-of-type {\n        vertical-align: middle;\n    }\n\n    .dataframe tbody tr th {\n        vertical-align: top;\n    }\n\n    .dataframe thead th {\n        text-align: right;\n    }\n</style>\n<table border=\"1\" class=\"dataframe\">\n  <thead>\n    <tr style=\"text-align: right;\">\n      <th></th>\n      <th>uid_old</th>\n      <th>mid_old</th>\n      <th>rating</th>\n      <th>date</th>\n      <th>uid</th>\n      <th>mid</th>\n      <th>latest</th>\n    </tr>\n  </thead>\n  <tbody>\n    <tr>\n      <th>0</th>\n      <td>5335</td>\n      <td>21</td>\n      <td>1</td>\n      <td>2000-06-11 23:13:14</td>\n      <td>5334</td>\n      <td>145</td>\n      <td>35.0</td>\n    </tr>\n    <tr>\n      <th>1</th>\n      <td>5335</td>\n      <td>45</td>\n      <td>1</td>\n      <td>2000-06-11 22:58:46</td>\n      <td>5334</td>\n      <td>1276</td>\n      <td>115.0</td>\n    </tr>\n    <tr>\n      <th>2</th>\n      <td>5335</td>\n      <td>101</td>\n      <td>1</td>\n      <td>2000-06-11 23:02:01</td>\n      <td>5334</td>\n      <td>2409</td>\n      <td>103.0</td>\n    </tr>\n    <tr>\n      <th>3</th>\n      <td>5335</td>\n      <td>110</td>\n      <td>1</td>\n      <td>2000-06-11 23:12:15</td>\n      <td>5334</td>\n      <td>92</td>\n      <td>41.0</td>\n    </tr>\n    <tr>\n      <th>4</th>\n      <td>5335</td>\n      <td>150</td>\n      <td>1</td>\n      <td>2000-06-11 23:04:09</td>\n      <td>5334</td>\n      <td>39</td>\n      <td>91.0</td>\n    </tr>\n  </tbody>\n</table>\n</div>"
     },
     "execution_count": 44,
     "metadata": {},
     "output_type": "execute_result"
    }
   ],
   "source": [
    "all_user_likes = data.df[data.df.uid==user].copy(deep=True)\n",
    "not_liked = data.movies - set(all_user_likes.mid_old.values)\n",
    "aul = all_user_likes.sort_values(by='mid_old').reset_index(drop=True)\n",
    "aul.head()\n"
   ],
   "metadata": {
    "collapsed": false,
    "pycharm": {
     "name": "#%%\n"
    }
   }
  },
  {
   "cell_type": "code",
   "execution_count": null,
   "outputs": [],
   "source": [
    "import numpy as np\n",
    "# [x for _, x in sorted(zip(Y, X))]\n",
    "# list(data.movies)\n",
    "y = model(\n",
    "    torch.LongTensor(np.full(data.num_movies, user)).to(device),\n",
    "    torch.LongTensor(list(data.movies)).to(device)\n",
    ")"
   ],
   "metadata": {
    "collapsed": false,
    "pycharm": {
     "name": "#%%\n"
    }
   }
  },
  {
   "cell_type": "code",
   "execution_count": 57,
   "outputs": [],
   "source": [
    "import pandas as pd\n",
    "cols = list(zip(list(data.movies),y.cpu().detach().numpy().squeeze()))\n",
    "\n",
    "scores = pd.DataFrame(cols, columns=['mid', 'score'])"
   ],
   "metadata": {
    "collapsed": false,
    "pycharm": {
     "name": "#%%\n"
    }
   }
  },
  {
   "cell_type": "code",
   "execution_count": 58,
   "outputs": [],
   "source": [
    "df = pd.merge(scores, aul, how='left')\n",
    "\n",
    "\n"
   ],
   "metadata": {
    "collapsed": false,
    "pycharm": {
     "name": "#%%\n"
    }
   }
  },
  {
   "cell_type": "code",
   "execution_count": 60,
   "outputs": [
    {
     "data": {
      "text/plain": "       mid     score  uid_old  mid_old  rating                date     uid  \\\n0        0  0.977174      NaN      NaN     NaN                 NaT     NaN   \n2271  2271  0.977174      NaN      NaN     NaN                 NaT     NaN   \n2272  2272  0.977174      NaN      NaN     NaN                 NaT     NaN   \n2273  2273  0.977174      NaN      NaN     NaN                 NaT     NaN   \n2274  2274  0.977174      NaN      NaN     NaN                 NaT     NaN   \n...    ...       ...      ...      ...     ...                 ...     ...   \n1142  1142  0.977174      NaN      NaN     NaN                 NaT     NaN   \n1143  1143  0.977174      NaN      NaN     NaN                 NaT     NaN   \n1144  1144  0.977174      NaN      NaN     NaN                 NaT     NaN   \n1146  1146  0.977174   5335.0   2860.0     1.0 2000-06-11 23:02:01  5334.0   \n3415  3415  0.977174      NaN      NaN     NaN                 NaT     NaN   \n\n      latest  \n0        NaN  \n2271     NaN  \n2272     NaN  \n2273     NaN  \n2274     NaN  \n...      ...  \n1142     NaN  \n1143     NaN  \n1144     NaN  \n1146   101.0  \n3415     NaN  \n\n[3416 rows x 8 columns]",
      "text/html": "<div>\n<style scoped>\n    .dataframe tbody tr th:only-of-type {\n        vertical-align: middle;\n    }\n\n    .dataframe tbody tr th {\n        vertical-align: top;\n    }\n\n    .dataframe thead th {\n        text-align: right;\n    }\n</style>\n<table border=\"1\" class=\"dataframe\">\n  <thead>\n    <tr style=\"text-align: right;\">\n      <th></th>\n      <th>mid</th>\n      <th>score</th>\n      <th>uid_old</th>\n      <th>mid_old</th>\n      <th>rating</th>\n      <th>date</th>\n      <th>uid</th>\n      <th>latest</th>\n    </tr>\n  </thead>\n  <tbody>\n    <tr>\n      <th>0</th>\n      <td>0</td>\n      <td>0.977174</td>\n      <td>NaN</td>\n      <td>NaN</td>\n      <td>NaN</td>\n      <td>NaT</td>\n      <td>NaN</td>\n      <td>NaN</td>\n    </tr>\n    <tr>\n      <th>2271</th>\n      <td>2271</td>\n      <td>0.977174</td>\n      <td>NaN</td>\n      <td>NaN</td>\n      <td>NaN</td>\n      <td>NaT</td>\n      <td>NaN</td>\n      <td>NaN</td>\n    </tr>\n    <tr>\n      <th>2272</th>\n      <td>2272</td>\n      <td>0.977174</td>\n      <td>NaN</td>\n      <td>NaN</td>\n      <td>NaN</td>\n      <td>NaT</td>\n      <td>NaN</td>\n      <td>NaN</td>\n    </tr>\n    <tr>\n      <th>2273</th>\n      <td>2273</td>\n      <td>0.977174</td>\n      <td>NaN</td>\n      <td>NaN</td>\n      <td>NaN</td>\n      <td>NaT</td>\n      <td>NaN</td>\n      <td>NaN</td>\n    </tr>\n    <tr>\n      <th>2274</th>\n      <td>2274</td>\n      <td>0.977174</td>\n      <td>NaN</td>\n      <td>NaN</td>\n      <td>NaN</td>\n      <td>NaT</td>\n      <td>NaN</td>\n      <td>NaN</td>\n    </tr>\n    <tr>\n      <th>...</th>\n      <td>...</td>\n      <td>...</td>\n      <td>...</td>\n      <td>...</td>\n      <td>...</td>\n      <td>...</td>\n      <td>...</td>\n      <td>...</td>\n    </tr>\n    <tr>\n      <th>1142</th>\n      <td>1142</td>\n      <td>0.977174</td>\n      <td>NaN</td>\n      <td>NaN</td>\n      <td>NaN</td>\n      <td>NaT</td>\n      <td>NaN</td>\n      <td>NaN</td>\n    </tr>\n    <tr>\n      <th>1143</th>\n      <td>1143</td>\n      <td>0.977174</td>\n      <td>NaN</td>\n      <td>NaN</td>\n      <td>NaN</td>\n      <td>NaT</td>\n      <td>NaN</td>\n      <td>NaN</td>\n    </tr>\n    <tr>\n      <th>1144</th>\n      <td>1144</td>\n      <td>0.977174</td>\n      <td>NaN</td>\n      <td>NaN</td>\n      <td>NaN</td>\n      <td>NaT</td>\n      <td>NaN</td>\n      <td>NaN</td>\n    </tr>\n    <tr>\n      <th>1146</th>\n      <td>1146</td>\n      <td>0.977174</td>\n      <td>5335.0</td>\n      <td>2860.0</td>\n      <td>1.0</td>\n      <td>2000-06-11 23:02:01</td>\n      <td>5334.0</td>\n      <td>101.0</td>\n    </tr>\n    <tr>\n      <th>3415</th>\n      <td>3415</td>\n      <td>0.977174</td>\n      <td>NaN</td>\n      <td>NaN</td>\n      <td>NaN</td>\n      <td>NaT</td>\n      <td>NaN</td>\n      <td>NaN</td>\n    </tr>\n  </tbody>\n</table>\n<p>3416 rows × 8 columns</p>\n</div>"
     },
     "execution_count": 60,
     "metadata": {},
     "output_type": "execute_result"
    }
   ],
   "source": [
    "df.sort_values(by='score')"
   ],
   "metadata": {
    "collapsed": false,
    "pycharm": {
     "name": "#%%\n"
    }
   }
  },
  {
   "cell_type": "code",
   "execution_count": null,
   "outputs": [],
   "source": [],
   "metadata": {
    "collapsed": false,
    "pycharm": {
     "name": "#%%\n"
    }
   }
  }
 ],
 "metadata": {
  "kernelspec": {
   "display_name": "Python 3",
   "language": "python",
   "name": "python3"
  },
  "language_info": {
   "codemirror_mode": {
    "name": "ipython",
    "version": 2
   },
   "file_extension": ".py",
   "mimetype": "text/x-python",
   "name": "python",
   "nbconvert_exporter": "python",
   "pygments_lexer": "ipython2",
   "version": "2.7.6"
  }
 },
 "nbformat": 4,
 "nbformat_minor": 0
}