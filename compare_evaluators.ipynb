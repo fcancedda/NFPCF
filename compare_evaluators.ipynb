{
 "cells": [
  {
   "cell_type": "code",
   "execution_count": 1,
   "outputs": [],
   "source": [
    "import numpy as np\n",
    "import pandas as pd\n",
    "import torch\n",
    "from time import time\n",
    "from data import TargetData\n",
    "\n",
    "device = torch.device(\"cuda\" if torch.cuda.is_available() else \"cpu\")\n",
    "\n",
    "device='cpu'"
   ],
   "metadata": {
    "collapsed": false,
    "pycharm": {
     "name": "#%%\n"
    }
   }
  },
  {
   "cell_type": "code",
   "execution_count": 2,
   "outputs": [
    {
     "data": {
      "text/plain": "       uid   mid  rating\n0        1   425       1\n1        4    48       1\n2        4  1337       1\n3        7   313       1\n4        8   490       1\n...    ...   ...     ...\n9943  6038  1616       1\n9944  6039   990       1\n9945  6039  1572       1\n9946  6039  3050       1\n9947  6039    48       1\n\n[9948 rows x 3 columns]",
      "text/html": "<div>\n<style scoped>\n    .dataframe tbody tr th:only-of-type {\n        vertical-align: middle;\n    }\n\n    .dataframe tbody tr th {\n        vertical-align: top;\n    }\n\n    .dataframe thead th {\n        text-align: right;\n    }\n</style>\n<table border=\"1\" class=\"dataframe\">\n  <thead>\n    <tr style=\"text-align: right;\">\n      <th></th>\n      <th>uid</th>\n      <th>mid</th>\n      <th>rating</th>\n    </tr>\n  </thead>\n  <tbody>\n    <tr>\n      <th>0</th>\n      <td>1</td>\n      <td>425</td>\n      <td>1</td>\n    </tr>\n    <tr>\n      <th>1</th>\n      <td>4</td>\n      <td>48</td>\n      <td>1</td>\n    </tr>\n    <tr>\n      <th>2</th>\n      <td>4</td>\n      <td>1337</td>\n      <td>1</td>\n    </tr>\n    <tr>\n      <th>3</th>\n      <td>7</td>\n      <td>313</td>\n      <td>1</td>\n    </tr>\n    <tr>\n      <th>4</th>\n      <td>8</td>\n      <td>490</td>\n      <td>1</td>\n    </tr>\n    <tr>\n      <th>...</th>\n      <td>...</td>\n      <td>...</td>\n      <td>...</td>\n    </tr>\n    <tr>\n      <th>9943</th>\n      <td>6038</td>\n      <td>1616</td>\n      <td>1</td>\n    </tr>\n    <tr>\n      <th>9944</th>\n      <td>6039</td>\n      <td>990</td>\n      <td>1</td>\n    </tr>\n    <tr>\n      <th>9945</th>\n      <td>6039</td>\n      <td>1572</td>\n      <td>1</td>\n    </tr>\n    <tr>\n      <th>9946</th>\n      <td>6039</td>\n      <td>3050</td>\n      <td>1</td>\n    </tr>\n    <tr>\n      <th>9947</th>\n      <td>6039</td>\n      <td>48</td>\n      <td>1</td>\n    </tr>\n  </tbody>\n</table>\n<p>9948 rows × 3 columns</p>\n</div>"
     },
     "execution_count": 2,
     "metadata": {},
     "output_type": "execute_result"
    }
   ],
   "source": [
    "test_data = pd.read_csv(\"evaluations/nfcf/test_userPages.csv\")  # consists of random sample\n",
    "test_data.rename(columns={'user_id': 'uid', 'like_id': 'mid'}, inplace=True)\n",
    "test_data['rating'] = 1\n",
    "\n",
    "test_data"
   ],
   "metadata": {
    "collapsed": false,
    "pycharm": {
     "name": "#%% TEST DATA 1\n"
    }
   }
  },
  {
   "cell_type": "code",
   "execution_count": 3,
   "outputs": [
    {
     "data": {
      "text/plain": "         uid   mid  rating\n25         1    25       1\n66         2    66       1\n232        3   207       1\n235        4   208       1\n258        5   222       1\n...      ...   ...     ...\n998205  6036  1048       1\n998959  6037   294       1\n999133  6038  1528       1\n999166  6039   420       1\n999444  6040   434       1\n\n[6040 rows x 3 columns]",
      "text/html": "<div>\n<style scoped>\n    .dataframe tbody tr th:only-of-type {\n        vertical-align: middle;\n    }\n\n    .dataframe tbody tr th {\n        vertical-align: top;\n    }\n\n    .dataframe thead th {\n        text-align: right;\n    }\n</style>\n<table border=\"1\" class=\"dataframe\">\n  <thead>\n    <tr style=\"text-align: right;\">\n      <th></th>\n      <th>uid</th>\n      <th>mid</th>\n      <th>rating</th>\n    </tr>\n  </thead>\n  <tbody>\n    <tr>\n      <th>25</th>\n      <td>1</td>\n      <td>25</td>\n      <td>1</td>\n    </tr>\n    <tr>\n      <th>66</th>\n      <td>2</td>\n      <td>66</td>\n      <td>1</td>\n    </tr>\n    <tr>\n      <th>232</th>\n      <td>3</td>\n      <td>207</td>\n      <td>1</td>\n    </tr>\n    <tr>\n      <th>235</th>\n      <td>4</td>\n      <td>208</td>\n      <td>1</td>\n    </tr>\n    <tr>\n      <th>258</th>\n      <td>5</td>\n      <td>222</td>\n      <td>1</td>\n    </tr>\n    <tr>\n      <th>...</th>\n      <td>...</td>\n      <td>...</td>\n      <td>...</td>\n    </tr>\n    <tr>\n      <th>998205</th>\n      <td>6036</td>\n      <td>1048</td>\n      <td>1</td>\n    </tr>\n    <tr>\n      <th>998959</th>\n      <td>6037</td>\n      <td>294</td>\n      <td>1</td>\n    </tr>\n    <tr>\n      <th>999133</th>\n      <td>6038</td>\n      <td>1528</td>\n      <td>1</td>\n    </tr>\n    <tr>\n      <th>999166</th>\n      <td>6039</td>\n      <td>420</td>\n      <td>1</td>\n    </tr>\n    <tr>\n      <th>999444</th>\n      <td>6040</td>\n      <td>434</td>\n      <td>1</td>\n    </tr>\n  </tbody>\n</table>\n<p>6040 rows × 3 columns</p>\n</div>"
     },
     "execution_count": 3,
     "metadata": {},
     "output_type": "execute_result"
    }
   ],
   "source": [
    "data = TargetData()  # consists of latest / last item for each user\n",
    "\n",
    "data.test"
   ],
   "metadata": {
    "collapsed": false,
    "pycharm": {
     "name": "#%% TEST DATA 2\n"
    }
   }
  },
  {
   "cell_type": "code",
   "execution_count": 4,
   "outputs": [
    {
     "name": "stdout",
     "output_type": "stream",
     "text": [
      "4920\n"
     ]
    }
   ],
   "source": [
    "print(data.num_users)"
   ],
   "metadata": {
    "collapsed": false,
    "pycharm": {
     "name": "#%% LOAD MODEL\n"
    }
   }
  },
  {
   "cell_type": "code",
   "execution_count": 5,
   "outputs": [
    {
     "data": {
      "text/plain": "NCF3(\n  (embed_user_GMF): Embedding(4920, 128)\n  (embed_item_GMF): Embedding(3416, 128)\n  (embed_user_MLP): Embedding(4920, 1024)\n  (embed_item_MLP): Embedding(3416, 1024)\n  (MLP_layers): Sequential(\n    (0): Dropout(p=1, inplace=False)\n    (1): Linear(in_features=2048, out_features=1024, bias=True)\n    (2): ReLU()\n    (3): Dropout(p=1, inplace=False)\n    (4): Linear(in_features=1024, out_features=512, bias=True)\n    (5): ReLU()\n    (6): Dropout(p=1, inplace=False)\n    (7): Linear(in_features=512, out_features=256, bias=True)\n    (8): ReLU()\n    (9): Dropout(p=1, inplace=False)\n    (10): Linear(in_features=256, out_features=128, bias=True)\n    (11): ReLU()\n  )\n  (predict_layer): Linear(in_features=256, out_features=1, bias=True)\n  (out_act): Sigmoid()\n)"
     },
     "execution_count": 5,
     "metadata": {},
     "output_type": "execute_result"
    }
   ],
   "source": [
    "from models import NCF3\n",
    "\n",
    "# ncf = NCF(6040, 3416, 128).to(device)\n",
    "ncf = NCF3(data.num_users, data.num_movies, 128, 4, 1, device).to(device)\n",
    "ncf.load_state_dict(torch.load(\"saved_models/NCF\",  map_location=torch.device(device)))\n",
    "# ncf.load_state_dict(torch.load(\"saved_models/preTrained_NCF\",  map_location=torch.device(device)))\n",
    "ncf.to(device)"
   ],
   "metadata": {
    "collapsed": false,
    "pycharm": {
     "name": "#%%\n"
    }
   }
  },
  {
   "cell_type": "code",
   "execution_count": 6,
   "outputs": [
    {
     "name": "stdout",
     "output_type": "stream",
     "text": [
      "36 seconds\n",
      "hr: 0.94, ndcg: 0.94\n"
     ]
    }
   ],
   "source": [
    "from evaluators import eval_model\n",
    "\n",
    "t1 = time()\n",
    "hr2, ndcg2 = eval_model(ncf, data, num_users= data.num_users, device=device)\n",
    "t2 = time()\n",
    "\n",
    "print(f'{int(t2 - t1)} seconds')\n",
    "print(f'hr: {round(hr2, 2)}, ndcg: {round(ndcg2, 2)}')"
   ],
   "metadata": {
    "collapsed": false,
    "pycharm": {
     "name": "#%% FASTEST\n"
    }
   }
  },
  {
   "cell_type": "code",
   "execution_count": 12,
   "outputs": [
    {
     "name": "stdout",
     "output_type": "stream",
     "text": [
      "39 seconds\n",
      "hr: [0.   0.94 0.94 0.94 0.94 0.94 0.94 0.94 0.94 0.94], ndcg:[0.   0.94 0.94 0.94 0.94 0.94 0.94 0.94 0.94 0.94]\n",
      "hr: 0.94, ndcg:0.94\n"
     ]
    }
   ],
   "source": [
    "from evaluators import evaluate_model\n",
    "CUDA_LAUNCH_BLOCKING=1\n",
    "t1 = time()\n",
    "avg_HR_preTrain, avg_NDCG_preTrain = evaluate_model(\n",
    "    ncf,\n",
    "    data.complete_test[['uid',  'mid']].values,\n",
    "    top_k=10,\n",
    "    random_samples=100,\n",
    "    num_items=data.num_movies,\n",
    "    device=device\n",
    ")\n",
    "t2 = time()\n",
    "\n",
    "print(f'{int(t2 - t1)} seconds')\n",
    "print(f'hr: {avg_HR_preTrain.round(2)}, ndcg:{avg_NDCG_preTrain.round(2)}')\n",
    "print(f'hr: {round(avg_HR_preTrain[-1], 2)}, ndcg:{round(avg_NDCG_preTrain[-1], 2)}')"
   ],
   "metadata": {
    "collapsed": false,
    "pycharm": {
     "name": "#%% RETURNS ALL SCORES for 1 to K\n"
    }
   }
  },
  {
   "cell_type": "code",
   "execution_count": null,
   "outputs": [],
   "source": [
    "from dump.evaluate import Evaluate\n",
    "\n",
    "evaluator = Evaluate(data=data, testing_data=test_data, device=device)\n",
    "\n",
    "t1 = time()\n",
    "hr, ndcg = evaluator(model=ncf)\n",
    "t2 = time()\n",
    "\n",
    "print(f'{int(t2 - t1)} seconds')\n",
    "print(f'hr: {round(hr, 2)}, ndcg: {round(ndcg, 2)}')"
   ],
   "metadata": {
    "collapsed": false,
    "pycharm": {
     "name": "#%% DEPRECATED EVALUATOR (SLOW)\n"
    }
   }
  },
  {
   "cell_type": "code",
   "execution_count": 10,
   "outputs": [
    {
     "data": {
      "text/plain": "               uid          mid\ncount  6040.000000  6040.000000\nmean   3020.500000   937.987914\nstd    1743.742145   787.384617\nmin       1.000000     0.000000\n25%    1510.750000   268.000000\n50%    3020.500000   729.000000\n75%    4530.250000  1396.000000\nmax    6040.000000  3400.000000",
      "text/html": "<div>\n<style scoped>\n    .dataframe tbody tr th:only-of-type {\n        vertical-align: middle;\n    }\n\n    .dataframe tbody tr th {\n        vertical-align: top;\n    }\n\n    .dataframe thead th {\n        text-align: right;\n    }\n</style>\n<table border=\"1\" class=\"dataframe\">\n  <thead>\n    <tr style=\"text-align: right;\">\n      <th></th>\n      <th>uid</th>\n      <th>mid</th>\n    </tr>\n  </thead>\n  <tbody>\n    <tr>\n      <th>count</th>\n      <td>6040.000000</td>\n      <td>6040.000000</td>\n    </tr>\n    <tr>\n      <th>mean</th>\n      <td>3020.500000</td>\n      <td>937.987914</td>\n    </tr>\n    <tr>\n      <th>std</th>\n      <td>1743.742145</td>\n      <td>787.384617</td>\n    </tr>\n    <tr>\n      <th>min</th>\n      <td>1.000000</td>\n      <td>0.000000</td>\n    </tr>\n    <tr>\n      <th>25%</th>\n      <td>1510.750000</td>\n      <td>268.000000</td>\n    </tr>\n    <tr>\n      <th>50%</th>\n      <td>3020.500000</td>\n      <td>729.000000</td>\n    </tr>\n    <tr>\n      <th>75%</th>\n      <td>4530.250000</td>\n      <td>1396.000000</td>\n    </tr>\n    <tr>\n      <th>max</th>\n      <td>6040.000000</td>\n      <td>3400.000000</td>\n    </tr>\n  </tbody>\n</table>\n</div>"
     },
     "execution_count": 10,
     "metadata": {},
     "output_type": "execute_result"
    }
   ],
   "source": [
    "data.test[['uid',  'mid']].describe()"
   ],
   "metadata": {
    "collapsed": false,
    "pycharm": {
     "name": "#%%\n"
    }
   }
  },
  {
   "cell_type": "code",
   "execution_count": null,
   "outputs": [],
   "source": [],
   "metadata": {
    "collapsed": false,
    "pycharm": {
     "name": "#%%\n"
    }
   }
  }
 ],
 "metadata": {
  "kernelspec": {
   "name": "pycharm-3d09f4f2",
   "language": "python",
   "display_name": "PyCharm (NFPCF)"
  },
  "language_info": {
   "codemirror_mode": {
    "name": "ipython",
    "version": 2
   },
   "file_extension": ".py",
   "mimetype": "text/x-python",
   "name": "python",
   "nbconvert_exporter": "python",
   "pygments_lexer": "ipython2",
   "version": "2.7.6"
  }
 },
 "nbformat": 4,
 "nbformat_minor": 0
}