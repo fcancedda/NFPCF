{
 "cells": [
  {
   "cell_type": "code",
   "execution_count": 1,
   "outputs": [
    {
     "data": {
      "text/plain": "device(type='cuda')"
     },
     "execution_count": 1,
     "metadata": {},
     "output_type": "execute_result"
    }
   ],
   "source": [
    "import numpy as np\n",
    "import pandas as pd\n",
    "import torch\n",
    "from time import time\n",
    "from data import TargetData\n",
    "\n",
    "device = torch.device(\"cuda\" if torch.cuda.is_available() else \"cpu\")\n",
    "device"
   ],
   "metadata": {
    "collapsed": false,
    "pycharm": {
     "name": "#%%\n"
    }
   }
  },
  {
   "cell_type": "code",
   "execution_count": 2,
   "outputs": [
    {
     "data": {
      "text/plain": "       uid   mid  rating\n0        1   425       1\n1        4    48       1\n2        4  1337       1\n3        7   313       1\n4        8   490       1\n...    ...   ...     ...\n9943  6038  1616       1\n9944  6039   990       1\n9945  6039  1572       1\n9946  6039  3050       1\n9947  6039    48       1\n\n[9948 rows x 3 columns]",
      "text/html": "<div>\n<style scoped>\n    .dataframe tbody tr th:only-of-type {\n        vertical-align: middle;\n    }\n\n    .dataframe tbody tr th {\n        vertical-align: top;\n    }\n\n    .dataframe thead th {\n        text-align: right;\n    }\n</style>\n<table border=\"1\" class=\"dataframe\">\n  <thead>\n    <tr style=\"text-align: right;\">\n      <th></th>\n      <th>uid</th>\n      <th>mid</th>\n      <th>rating</th>\n    </tr>\n  </thead>\n  <tbody>\n    <tr>\n      <th>0</th>\n      <td>1</td>\n      <td>425</td>\n      <td>1</td>\n    </tr>\n    <tr>\n      <th>1</th>\n      <td>4</td>\n      <td>48</td>\n      <td>1</td>\n    </tr>\n    <tr>\n      <th>2</th>\n      <td>4</td>\n      <td>1337</td>\n      <td>1</td>\n    </tr>\n    <tr>\n      <th>3</th>\n      <td>7</td>\n      <td>313</td>\n      <td>1</td>\n    </tr>\n    <tr>\n      <th>4</th>\n      <td>8</td>\n      <td>490</td>\n      <td>1</td>\n    </tr>\n    <tr>\n      <th>...</th>\n      <td>...</td>\n      <td>...</td>\n      <td>...</td>\n    </tr>\n    <tr>\n      <th>9943</th>\n      <td>6038</td>\n      <td>1616</td>\n      <td>1</td>\n    </tr>\n    <tr>\n      <th>9944</th>\n      <td>6039</td>\n      <td>990</td>\n      <td>1</td>\n    </tr>\n    <tr>\n      <th>9945</th>\n      <td>6039</td>\n      <td>1572</td>\n      <td>1</td>\n    </tr>\n    <tr>\n      <th>9946</th>\n      <td>6039</td>\n      <td>3050</td>\n      <td>1</td>\n    </tr>\n    <tr>\n      <th>9947</th>\n      <td>6039</td>\n      <td>48</td>\n      <td>1</td>\n    </tr>\n  </tbody>\n</table>\n<p>9948 rows × 3 columns</p>\n</div>"
     },
     "execution_count": 2,
     "metadata": {},
     "output_type": "execute_result"
    }
   ],
   "source": [
    "test_data = pd.read_csv(\"evaluations/nfcf/test_userPages.csv\")  # consists of random sample\n",
    "test_data.rename(columns={'user_id': 'uid', 'like_id': 'mid'}, inplace=True)\n",
    "test_data['rating'] = 1\n",
    "\n",
    "test_data"
   ],
   "metadata": {
    "collapsed": false,
    "pycharm": {
     "name": "#%% TEST DATA 1\n"
    }
   }
  },
  {
   "cell_type": "code",
   "execution_count": 3,
   "outputs": [
    {
     "data": {
      "text/plain": "         uid   mid  rating\n25         0    25       1\n66         1    66       1\n232        2   207       1\n235        3   208       1\n258        4   222       1\n...      ...   ...     ...\n998205  6035  1048       1\n998959  6036   294       1\n999133  6037  1528       1\n999166  6038   420       1\n999444  6039   434       1\n\n[6040 rows x 3 columns]",
      "text/html": "<div>\n<style scoped>\n    .dataframe tbody tr th:only-of-type {\n        vertical-align: middle;\n    }\n\n    .dataframe tbody tr th {\n        vertical-align: top;\n    }\n\n    .dataframe thead th {\n        text-align: right;\n    }\n</style>\n<table border=\"1\" class=\"dataframe\">\n  <thead>\n    <tr style=\"text-align: right;\">\n      <th></th>\n      <th>uid</th>\n      <th>mid</th>\n      <th>rating</th>\n    </tr>\n  </thead>\n  <tbody>\n    <tr>\n      <th>25</th>\n      <td>0</td>\n      <td>25</td>\n      <td>1</td>\n    </tr>\n    <tr>\n      <th>66</th>\n      <td>1</td>\n      <td>66</td>\n      <td>1</td>\n    </tr>\n    <tr>\n      <th>232</th>\n      <td>2</td>\n      <td>207</td>\n      <td>1</td>\n    </tr>\n    <tr>\n      <th>235</th>\n      <td>3</td>\n      <td>208</td>\n      <td>1</td>\n    </tr>\n    <tr>\n      <th>258</th>\n      <td>4</td>\n      <td>222</td>\n      <td>1</td>\n    </tr>\n    <tr>\n      <th>...</th>\n      <td>...</td>\n      <td>...</td>\n      <td>...</td>\n    </tr>\n    <tr>\n      <th>998205</th>\n      <td>6035</td>\n      <td>1048</td>\n      <td>1</td>\n    </tr>\n    <tr>\n      <th>998959</th>\n      <td>6036</td>\n      <td>294</td>\n      <td>1</td>\n    </tr>\n    <tr>\n      <th>999133</th>\n      <td>6037</td>\n      <td>1528</td>\n      <td>1</td>\n    </tr>\n    <tr>\n      <th>999166</th>\n      <td>6038</td>\n      <td>420</td>\n      <td>1</td>\n    </tr>\n    <tr>\n      <th>999444</th>\n      <td>6039</td>\n      <td>434</td>\n      <td>1</td>\n    </tr>\n  </tbody>\n</table>\n<p>6040 rows × 3 columns</p>\n</div>"
     },
     "execution_count": 3,
     "metadata": {},
     "output_type": "execute_result"
    }
   ],
   "source": [
    "data = TargetData()  # consists of latest / last item for each user\n",
    "\n",
    "data.test"
   ],
   "metadata": {
    "collapsed": false,
    "pycharm": {
     "name": "#%% TEST DATA 2\n"
    }
   }
  },
  {
   "cell_type": "code",
   "execution_count": 4,
   "outputs": [
    {
     "data": {
      "text/plain": "NCF(\n  (user_emb): Embedding(6040, 128)\n  (like_emb): Embedding(3416, 128)\n  (fc1): Linear(in_features=256, out_features=128, bias=True)\n  (relu1): ReLU()\n  (fc2): Linear(in_features=128, out_features=64, bias=True)\n  (relu2): ReLU()\n  (fc3): Linear(in_features=64, out_features=32, bias=True)\n  (relu3): ReLU()\n  (fc4): Linear(in_features=32, out_features=16, bias=True)\n  (relu4): ReLU()\n  (outLayer): Linear(in_features=16, out_features=1, bias=True)\n  (out_act): Sigmoid()\n)"
     },
     "execution_count": 4,
     "metadata": {},
     "output_type": "execute_result"
    }
   ],
   "source": [
    "from models import NCF\n",
    "\n",
    "ncf = NCF(6040, 3416, 128, np.array([128, 64, 32, 16]), 1).to(device)\n",
    "ncf.load_state_dict(torch.load(\"saved_models/preTrained_NCF\",  map_location=torch.device(device)))\n",
    "ncf.to(device)"
   ],
   "metadata": {
    "collapsed": false,
    "pycharm": {
     "name": "#%% LOAD MODEL\n"
    }
   }
  },
  {
   "cell_type": "code",
   "execution_count": 5,
   "outputs": [
    {
     "name": "stdout",
     "output_type": "stream",
     "text": [
      "4 seconds\n",
      "hr: 1.0\n"
     ]
    }
   ],
   "source": [
    "from evaluators import eval_model\n",
    "\n",
    "t1 = time()\n",
    "hr2, ndcg2 = eval_model(ncf, data, num_users= data.num_users, device=device)\n",
    "t2 = time()\n",
    "\n",
    "print(f'{int(t2 - t1)} seconds')\n",
    "print(f'hr: {round(hr2, 2)}')"
   ],
   "metadata": {
    "collapsed": false,
    "pycharm": {
     "name": "#%% FASTEST\n"
    }
   }
  },
  {
   "cell_type": "code",
   "execution_count": 14,
   "outputs": [
    {
     "name": "stdout",
     "output_type": "stream",
     "text": [
      "14 seconds\n",
      "hr: 1.0\n"
     ]
    }
   ],
   "source": [
    "from evaluators import evaluate_model\n",
    "\n",
    "t1 = time()\n",
    "avg_HR_preTrain, avg_NDCG_preTrain = evaluate_model(\n",
    "    ncf,\n",
    "    test_data.values,\n",
    "    top_k=10,\n",
    "    random_samples=100,\n",
    "    num_items=3416,\n",
    "    device=device\n",
    ")\n",
    "t2 = time()\n",
    "\n",
    "print(f'{int(t2 - t1)} seconds')\n",
    "print(f'hr: {round(avg_HR_preTrain[-1], 2)}')"
   ],
   "metadata": {
    "collapsed": false,
    "pycharm": {
     "name": "#%% RETURNS ALL SCORES for 1 to K\n"
    }
   }
  },
  {
   "cell_type": "code",
   "execution_count": 9,
   "outputs": [
    {
     "name": "stdout",
     "output_type": "stream",
     "text": [
      "51 seconds\n",
      "hr: 1.0\n"
     ]
    }
   ],
   "source": [
    "from dump.evaluate import Evaluate\n",
    "\n",
    "evaluator = Evaluate(data=data, testing_data=test_data, device=device)\n",
    "\n",
    "t1 = time()\n",
    "hr, ndcg = evaluator(model=ncf)\n",
    "t2 = time()\n",
    "\n",
    "print(f'{int(t2 - t1)} seconds')\n",
    "print(f'hr: {round(hr, 2)}')"
   ],
   "metadata": {
    "collapsed": false,
    "pycharm": {
     "name": "#%% DEPRECATED EVALUATOR (SLOW)\n"
    }
   }
  },
  {
   "cell_type": "code",
   "execution_count": null,
   "outputs": [],
   "source": [],
   "metadata": {
    "collapsed": false,
    "pycharm": {
     "name": "#%%\n"
    }
   }
  }
 ],
 "metadata": {
  "kernelspec": {
   "name": "pycharm-3d09f4f2",
   "language": "python",
   "display_name": "PyCharm (NFPCF)"
  },
  "language_info": {
   "codemirror_mode": {
    "name": "ipython",
    "version": 2
   },
   "file_extension": ".py",
   "mimetype": "text/x-python",
   "name": "python",
   "nbconvert_exporter": "python",
   "pygments_lexer": "ipython2",
   "version": "2.7.6"
  }
 },
 "nbformat": 4,
 "nbformat_minor": 0
}