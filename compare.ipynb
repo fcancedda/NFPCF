{
 "cells": [
  {
   "cell_type": "code",
   "execution_count": null,
   "outputs": [],
   "source": [],
   "metadata": {
    "collapsed": false,
    "pycharm": {
     "name": "#%%\n"
    }
   }
  },
  {
   "cell_type": "code",
   "execution_count": null,
   "outputs": [],
   "source": [
    "import heapq\n",
    "import torch\n",
    "import pandas as pd\n",
    "import numpy as np\n",
    "import math\n",
    "from utilities import get_test_instances_with_random_samples\n",
    "from collaborative_models import neuralCollabFilter\n",
    "\n",
    "emb_size = 128\n",
    "hidden_layers = np.array([emb_size, 64, 32, 16])\n",
    "output_size = 1\n",
    "\n",
    "train_data = pd.read_csv(\"train-test/train_userPages.csv\")\n",
    "test_data = pd.read_csv(\"train-test/test_userPages.csv\")\n",
    "num_unique_users = len(train_data.user_id.unique())\n",
    "num_unique_likes = len(train_data.like_id.unique())\n",
    "\n",
    "device = torch.device(\"cuda\" if torch.cuda.is_available() else \"cpu\")\n",
    "\n",
    "pre = neuralCollabFilter(num_unique_users, num_unique_likes, emb_size, hidden_layers,output_size).to(device)\n",
    "\n",
    "pre.load_state_dict(torch.load(\"trained-models/preTrained_NCF\"))\n",
    "\n",
    "\n",
    "pre.to(device)"
   ],
   "metadata": {
    "collapsed": false,
    "pycharm": {
     "name": "#%%\n"
    }
   }
  },
  {
   "cell_type": "code",
   "execution_count": null,
   "outputs": [],
   "source": [
    "# %% model evaluation: hit rate and NDCG\n",
    "def getHitRatio(ranklist, gtItem):\n",
    "    for item in ranklist:\n",
    "        if item == gtItem:\n",
    "            return 1\n",
    "    return 0\n",
    "\n",
    "\n",
    "def getNDCG(ranklist, gtItem):\n",
    "    for i in range(len(ranklist)):\n",
    "        item = ranklist[i]\n",
    "        if item == gtItem:\n",
    "            return math.log(2) / math.log(i + 2)\n",
    "    return 0\n",
    "\n",
    "def evaluate_model(model, df_val, top_K, random_samples, num_items):\n",
    "    model.eval()\n",
    "    avg_HR = np.zeros((len(df_val), top_K))\n",
    "    avg_NDCG = np.zeros((len(df_val), top_K))\n",
    "\n",
    "    for i in range(len(df_val)):\n",
    "        test_user_input, test_item_input = get_test_instances_with_random_samples(df_val[i], random_samples, num_items,\n",
    "                                                                                  device)\n",
    "        y_hat = model(test_user_input, test_item_input)\n",
    "        y_hat = y_hat.cpu().detach().numpy().reshape((-1,))\n",
    "        test_item_input = test_item_input.cpu().detach().numpy().reshape((-1,))\n",
    "        map_item_score = {}\n",
    "        for j in range(len(y_hat)):\n",
    "            map_item_score[test_item_input[j]] = y_hat[j]\n",
    "        for k in range(top_K):\n",
    "            # Evaluate top rank list\n",
    "            ranklist = heapq.nlargest(k, map_item_score, key=map_item_score.get)\n",
    "            gtItem = test_item_input[0]\n",
    "            avg_HR[i, k] = getHitRatio(ranklist, gtItem)\n",
    "            avg_NDCG[i, k] = getNDCG(ranklist, gtItem)\n",
    "    avg_HR = np.mean(avg_HR, axis=0)\n",
    "    avg_NDCG = np.mean(avg_NDCG, axis=0)\n",
    "    return avg_HR, avg_NDCG\n",
    "\n",
    "random_samples = 100\n",
    "top_K = 10\n",
    "\n",
    "ht, ndcg = evaluate_model(pre, test_data.values, top_K, random_samples,\n",
    "                          num_unique_likes)"
   ],
   "metadata": {
    "collapsed": false,
    "pycharm": {
     "name": "#%%\n"
    }
   }
  },
  {
   "cell_type": "code",
   "execution_count": null,
   "outputs": [],
   "source": [
    "ht[-1]"
   ],
   "metadata": {
    "collapsed": false,
    "pycharm": {
     "name": "#%%\n"
    }
   }
  },
  {
   "cell_type": "code",
   "execution_count": null,
   "outputs": [],
   "source": [
    "new = neuralCollabFilter(num_unique_users, 3952, emb_size, hidden_layers,output_size).to(device)\n",
    "\n",
    "new.load_state_dict(torch.load(\"trained-models/new_pre\"))"
   ],
   "metadata": {
    "collapsed": false,
    "pycharm": {
     "name": "#%%\n"
    }
   }
  },
  {
   "cell_type": "code",
   "execution_count": null,
   "outputs": [],
   "source": [
    "ht2, ndcg2 = evaluate_model(new, test_data.values, top_K, random_samples,\n",
    "                            3952)"
   ],
   "metadata": {
    "collapsed": false,
    "pycharm": {
     "name": "#%%\n"
    }
   }
  },
  {
   "cell_type": "code",
   "execution_count": null,
   "outputs": [],
   "source": [
    "import matplotlib.pyplot as plt\n",
    "ht2[-1]\n"
   ],
   "metadata": {
    "collapsed": false,
    "pycharm": {
     "name": "#%%\n"
    }
   }
  },
  {
   "cell_type": "code",
   "execution_count": null,
   "metadata": {
    "collapsed": true
   },
   "outputs": [],
   "source": []
  }
 ],
 "metadata": {
  "kernelspec": {
   "display_name": "Python 3",
   "language": "python",
   "name": "python3"
  },
  "language_info": {
   "codemirror_mode": {
    "name": "ipython",
    "version": 2
   },
   "file_extension": ".py",
   "mimetype": "text/x-python",
   "name": "python",
   "nbconvert_exporter": "python",
   "pygments_lexer": "ipython2",
   "version": "2.7.6"
  }
 },
 "nbformat": 4,
 "nbformat_minor": 0
}