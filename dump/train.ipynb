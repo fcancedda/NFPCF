{
 "cells": [
  {
   "cell_type": "code",
   "execution_count": 1,
   "outputs": [
    {
     "data": {
      "text/plain": "device(type='cuda')"
     },
     "execution_count": 1,
     "metadata": {},
     "output_type": "execute_result"
    }
   ],
   "source": [
    "from time import time\n",
    "import torch\n",
    "import numpy as np\n",
    "from torch.utils.data import DataLoader\n",
    "from data import TargetData\n",
    "from models import NCF\n",
    "from evaluators import eval_model\n",
    "\n",
    "device = torch.device(\"cuda\" if torch.cuda.is_available() else \"cpu\")\n",
    "device\n",
    "\n",
    "# -----------------------------------------------------------------"
   ],
   "metadata": {
    "collapsed": false,
    "pycharm": {
     "name": "#%%\n"
    }
   }
  },
  {
   "cell_type": "code",
   "execution_count": 2,
   "outputs": [
    {
     "name": "stdout",
     "output_type": "stream",
     "text": [
      "Processing data...\n",
      "Done\n"
     ]
    }
   ],
   "source": [
    "print(\"Processing data...\")\n",
    "data = TargetData()\n",
    "print(\"Done\")\n",
    "\n",
    "# -----------------------------------------------------------------"
   ],
   "metadata": {
    "collapsed": false,
    "pycharm": {
     "name": "#%% --- PARSING DATA ---\n"
    }
   }
  },
  {
   "cell_type": "code",
   "execution_count": 3,
   "outputs": [],
   "source": [
    "num_epochs = 5\n",
    "learning_rate = .1\n",
    "\n",
    "emb_size = 128\n",
    "hidden_layers = np.array([emb_size, 64, 32, 16])\n",
    "output_size = 1\n",
    "random_samples = 100\n",
    "num_negatives = 4\n",
    "top_k = 10\n",
    "batch_size = 256\n",
    "\n",
    "# -----------------------------------------------------------------"
   ],
   "metadata": {
    "collapsed": false,
    "pycharm": {
     "name": "#%% --- Hyper parameters ---\n"
    }
   }
  },
  {
   "cell_type": "code",
   "execution_count": 4,
   "outputs": [
    {
     "data": {
      "text/plain": "     uid  mid  rating\n25     0   25       1\n66     1   66       1\n232    2  207       1\n235    3  208       1\n258    4  222       1",
      "text/html": "<div>\n<style scoped>\n    .dataframe tbody tr th:only-of-type {\n        vertical-align: middle;\n    }\n\n    .dataframe tbody tr th {\n        vertical-align: top;\n    }\n\n    .dataframe thead th {\n        text-align: right;\n    }\n</style>\n<table border=\"1\" class=\"dataframe\">\n  <thead>\n    <tr style=\"text-align: right;\">\n      <th></th>\n      <th>uid</th>\n      <th>mid</th>\n      <th>rating</th>\n    </tr>\n  </thead>\n  <tbody>\n    <tr>\n      <th>25</th>\n      <td>0</td>\n      <td>25</td>\n      <td>1</td>\n    </tr>\n    <tr>\n      <th>66</th>\n      <td>1</td>\n      <td>66</td>\n      <td>1</td>\n    </tr>\n    <tr>\n      <th>232</th>\n      <td>2</td>\n      <td>207</td>\n      <td>1</td>\n    </tr>\n    <tr>\n      <th>235</th>\n      <td>3</td>\n      <td>208</td>\n      <td>1</td>\n    </tr>\n    <tr>\n      <th>258</th>\n      <td>4</td>\n      <td>222</td>\n      <td>1</td>\n    </tr>\n  </tbody>\n</table>\n</div>"
     },
     "execution_count": 4,
     "metadata": {},
     "output_type": "execute_result"
    }
   ],
   "source": [
    "data.test.head()\n",
    "\n",
    "# -----------------------------------------------------------------"
   ],
   "metadata": {
    "collapsed": false,
    "pycharm": {
     "name": "#%%\n"
    }
   }
  },
  {
   "cell_type": "code",
   "execution_count": 5,
   "outputs": [],
   "source": [
    "def train_ncf(model):\n",
    "    # data.get_train_instances(seed=e)\n",
    "    optimizer = torch.optim.AdamW(model.parameters(),  lr=learning_rate, weight_decay=1e-6)\n",
    "    # optimizer = torch.optim.SGD(model.parameters(), lr=learning_rate, weight_decay=1e-6)\n",
    "    dataloader = DataLoader(data, batch_size=batch_size,\n",
    "                        shuffle=True, num_workers=0)\n",
    "    t1 = time()\n",
    "\n",
    "\n",
    "    it_per_epoch = len(data) / batch_size\n",
    "    for i in range(num_epochs):\n",
    "        ncf.train()\n",
    "        print(\"Starting epoch \", i + 1)\n",
    "        j = 0\n",
    "        # loss = 0\n",
    "        for batch in dataloader:\n",
    "            u, m, r = batch\n",
    "            # move tensors to cuda\n",
    "            u = u.to(device)\n",
    "            m = m.to(device)\n",
    "            r = r.to(device)\n",
    "\n",
    "            y_hat = model(u.squeeze(1), m.squeeze(1))\n",
    "            loss = torch.nn.BCELoss()  # (weight=w, reduction=\"mean\")\n",
    "\n",
    "            loss = loss(y_hat, r.float())\n",
    "            optimizer.zero_grad()\n",
    "\n",
    "            optimizer.zero_grad()\n",
    "            loss.backward()\n",
    "            optimizer.step()\n",
    "\n",
    "            # if j % int(1 + it_per_epoch / 10) == 0:\n",
    "            #     print(\"Progress: \", round(100 * j / it_per_epoch), \"%\")\n",
    "            j+=1\n",
    "        # Epoch metrics\n",
    "        t2 = time()\n",
    "        # print(\"Epoch time:\", round(t2 - t1), \"seconds\")\n",
    "        # print(\"Loss:\", loss.cpu().detach().numpy().round(3) / i)\n",
    "\n",
    "        # print(\"Evaluating model...\")\n",
    "        ncf.eval()\n",
    "        hr, ndcg = eval_model(model, data)\n",
    "        print(f\"HR@{top_k}: {round(hr, 2)}\")\n",
    "        # print(f\"NDCG@{top_k}: {round(ndcg, 2)}\")\n",
    "    print(\"Done\")\n",
    "\n",
    "# def fed_fit(model_central, data, C, batch_size, epochs, lr, eta, verbose=True):\n",
    "#\n",
    "#     # Sample the participants for the round of training\n",
    "#     num_participants = int(data.num_users * C)\n",
    "#     participants = random.sample(range(data.num_users), num_participants)\n",
    "#\n",
    "#     # model_difference holds the total change of the global model after the round\n",
    "#     model_difference = copy.deepcopy(model_central)\n",
    "#     utils.zero_model_parameters(model_difference)\n",
    "#\n",
    "#     it = 0\n",
    "#\n",
    "#     t1 = time()\n",
    "#\n",
    "#     # Start training loop\n",
    "#     for user in participants:\n",
    "#\n",
    "#         it += 1\n",
    "#         if it % int(num_participants / 10) == 0 and verbose:\n",
    "#             print(\"Progress:\", round(100 * it / num_participants), \"%\")\n",
    "#\n",
    "#         # The current user takes a copy of the global model\n",
    "#         model_client = copy.deepcopy(model_central)\n",
    "#\n",
    "#         # Defining optimizers\n",
    "#         optimizer = torch.optim.SGD(model_client.parameters(), lr=lr)  # MLP optimizer\n",
    "#         optimizer_u = torch.optim.SGD(model_client.user_embedding.parameters(), lr=lr / C * eta - lr)  # User optimizer\n",
    "#         optimizer_i = torch.optim.SGD(model_client.item_embedding.parameters(),\n",
    "#                                       lr=lr * data.num_items * eta - lr)  # Item optimizer\n",
    "#\n",
    "#         # Prepares data for the current user\n",
    "#         # data.set_current_user(user)\n",
    "#         # data.generate_negatives()\n",
    "#\n",
    "#         dataloader = DataLoader(data, batch_size=batch_size,\n",
    "#                                 shuffle=True, num_workers=0)\n",
    "#\n",
    "#         # Trains on the users data\n",
    "#         for e in range(epochs):\n",
    "#             for batch in dataloader:\n",
    "#                 # Load tensors of users, movies, outputs and loss weights\n",
    "#                 u, m, y = batch\n",
    "#                 # move tensors to cuda\n",
    "#                 u = u.to(device)\n",
    "#                 m = m.to(device)\n",
    "#                 y = y.to(device)\n",
    "#                 # w = w.to(device)\n",
    "#\n",
    "#                 # make predictions\n",
    "#                 p_pred = model_client(u, m)\n",
    "#\n",
    "#                 # Calculate mean loss\n",
    "#                 loss_fn = torch.nn.BCELoss()  # weight=w, reduction=\"mean\")\n",
    "#                 loss = loss_fn(p_pred, y)\n",
    "#\n",
    "#                 # Backpropagate the output and update model parameters\n",
    "#                 optimizer.zero_grad()\n",
    "#                 optimizer_u.zero_grad()\n",
    "#                 optimizer_i.zero_grad()\n",
    "#\n",
    "#                 loss.backward()\n",
    "#                 optimizer.step()\n",
    "#                 optimizer_u.step()\n",
    "#                 optimizer_i.step()\n",
    "#\n",
    "#         # Calculate the user's change of the model and add it to the total change\n",
    "#         utils.sub_model_parameters(model_central, model_client)\n",
    "#         utils.add_model_parameters(model_client, model_difference)\n",
    "#\n",
    "#     # Take the average of the MLP and item vectors\n",
    "#     utils.divide_model_parameters(model_difference, num_participants)\n",
    "#\n",
    "#     # Update the global model by adding the total change\n",
    "#     utils.add_model_parameters(model_difference, model_central)\n",
    "#     t2 = time.time()\n",
    "#     print(\"Time of round:\", round(t2 - t1), \"seconds\")\n",
    "\n",
    "# def train_fed():\n",
    "#     for t in range(T):  # for each round\n",
    "#         print(\"Starting round\", t + 1)\n",
    "#         # train one round\n",
    "#         fed_fit(model_central, data, C=C, batch_size=batch_size, epochs=E, lr=learning_rate, eta=eta, verbose=True)\n",
    "#         print(\"Evaluating model...\")\n",
    "#         # HR, NDCG = evaluate_model(model_central, data, validation=False)\n",
    "#         # hr, ndcg = evaluate_model(\n",
    "#         #     NCF,\n",
    "#         #     data.test.values,\n",
    "#         #     25,\n",
    "#         #     random_samples,\n",
    "#         #     data.num_movies\n",
    "#         # )\n",
    "#         print(\"HR@10:\", hr)\n",
    "#         print(\"NDCG@10\", ndcg)\n",
    "\n",
    "# -----------------------------------------------------------------"
   ],
   "metadata": {
    "collapsed": false,
    "pycharm": {
     "name": "#%% --- Functions for training ---\n"
    }
   }
  },
  {
   "cell_type": "code",
   "execution_count": 6,
   "outputs": [
    {
     "name": "stdout",
     "output_type": "stream",
     "text": [
      "Starting epoch  1\n",
      "HR@10: 0.99\n",
      "Starting epoch  2\n",
      "HR@10: 1.0\n",
      "Starting epoch  3\n",
      "HR@10: 1.0\n",
      "Starting epoch  4\n",
      "HR@10: 1.0\n",
      "Starting epoch  5\n",
      "HR@10: 1.0\n",
      "Done\n"
     ]
    }
   ],
   "source": [
    "ncf = NCF(data.num_users, data.num_movies, emb_size, hidden_layers, output_size).to(device)\n",
    "\n",
    "train_ncf(ncf)"
   ],
   "metadata": {
    "collapsed": false,
    "pycharm": {
     "name": "#%% --- TRAIN MODEL ( MINI BATCH ) ---\n"
    }
   }
  },
  {
   "cell_type": "code",
   "execution_count": 8,
   "outputs": [],
   "source": [
    "torch.save(ncf.state_dict(), \"saved_models/preTrained_NCF\")\n"
   ],
   "metadata": {
    "collapsed": false,
    "pycharm": {
     "name": "#%%\n"
    }
   }
  },
  {
   "cell_type": "code",
   "execution_count": null,
   "outputs": [],
   "source": [],
   "metadata": {
    "collapsed": false,
    "pycharm": {
     "name": "#%%\n"
    }
   }
  }
 ],
 "metadata": {
  "kernelspec": {
   "name": "pycharm-3d09f4f2",
   "language": "python",
   "display_name": "PyCharm (NFPCF)"
  },
  "language_info": {
   "codemirror_mode": {
    "name": "ipython",
    "version": 2
   },
   "file_extension": ".py",
   "mimetype": "text/x-python",
   "name": "python",
   "nbconvert_exporter": "python",
   "pygments_lexer": "ipython2",
   "version": "2.7.6"
  }
 },
 "nbformat": 4,
 "nbformat_minor": 0
}